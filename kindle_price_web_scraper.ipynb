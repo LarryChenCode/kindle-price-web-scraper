{
  "cells": [
    {
      "cell_type": "code",
      "execution_count": 1,
      "id": "f236cbb9",
      "metadata": {
        "id": "f236cbb9"
      },
      "outputs": [],
      "source": [
        "# Import necessary libraries\n",
        "from bs4 import BeautifulSoup\n",
        "import requests\n",
        "import time\n",
        "import datetime\n",
        "import smtplib"
      ]
    },
    {
      "cell_type": "code",
      "execution_count": 6,
      "id": "9b531b61",
      "metadata": {
        "colab": {
          "base_uri": "https://localhost:8080/"
        },
        "id": "9b531b61",
        "outputId": "8265d444-265a-4c14-f817-0d413d0b8477"
      },
      "outputs": [
        {
          "output_type": "stream",
          "name": "stdout",
          "text": [
            "\n",
            "             Becoming a Data Head: How to Think, Speak, and Understand Data Science, Statistics, and Machine Learning\n",
            "            \n",
            "\n",
            "                            $25.00\n",
            "                           \n"
          ]
        }
      ],
      "source": [
        "# Connect to Website and pull in data\n",
        "\n",
        "URL = 'https://www.amazon.com/Becoming-Data-Head-Understand-Statistics-ebook/dp/B092TSVZJ8/ref=tmm_kin_swatch_0?_encoding=UTF8&qid=&sr='\n",
        "headers = {\n",
        "    \"User-Agent\": \"Mozilla/5.0 (Windows NT 10.0; Win64; x64) AppleWebKit/537.36 (KHTML, like Gecko) Chrome/122.0.0.0 Safari/537.36\",\n",
        "    \"Accept-Encoding\":\"gzip, deflate\",\n",
        "    \"Accept\":\"text/html,application/xhtml+xml,application/xml;q=0.9,*/*;q=0.8\",\n",
        "    \"DNT\":\"1\",\n",
        "    \"Connection\":\"close\",\n",
        "    \"Upgrade-Insecure-Requests\":\"1\"\n",
        "    }\n",
        "\n",
        "page = requests.get(URL, headers=headers)\n",
        "soup1 = BeautifulSoup(page.content, \"html.parser\")\n",
        "soup2 = BeautifulSoup(soup1.prettify(), \"html.parser\")\n",
        "title = soup2.find(id='productTitle').get_text()\n",
        "price = soup2.find(id='kindle-price').get_text()\n",
        "\n",
        "print(title)\n",
        "print(price)"
      ]
    },
    {
      "cell_type": "code",
      "execution_count": 7,
      "id": "b6f7d66e",
      "metadata": {
        "colab": {
          "base_uri": "https://localhost:8080/"
        },
        "id": "b6f7d66e",
        "outputId": "1ed5d159-3da8-4fa7-b4d7-7498db3f4a3a"
      },
      "outputs": [
        {
          "output_type": "stream",
          "name": "stdout",
          "text": [
            "Becoming a Data Head: How to Think, Speak, and Understand Data Science, Statistics, and Machine Learning\n",
            "25.00\n"
          ]
        }
      ],
      "source": [
        "# Clean up the data a little bit\n",
        "price = price.strip()[1:]\n",
        "title = title.strip()\n",
        "\n",
        "print(title)\n",
        "print(price)"
      ]
    },
    {
      "cell_type": "code",
      "execution_count": 8,
      "id": "4f021c23",
      "metadata": {
        "colab": {
          "base_uri": "https://localhost:8080/"
        },
        "id": "4f021c23",
        "outputId": "8e3a4f23-e20b-4099-f208-df4aad68803a"
      },
      "outputs": [
        {
          "output_type": "stream",
          "name": "stdout",
          "text": [
            "2024-03-08\n"
          ]
        }
      ],
      "source": [
        "# Create a Timestamp for your output to track when data was collected\n",
        "import datetime\n",
        "today = datetime.date.today()\n",
        "print(today)"
      ]
    },
    {
      "cell_type": "code",
      "execution_count": 10,
      "id": "14d703ca",
      "metadata": {
        "id": "14d703ca"
      },
      "outputs": [],
      "source": [
        "# Create CSV and write headers and data into the file\n",
        "import csv\n",
        "\n",
        "header = ['Title', 'Price', 'Date']\n",
        "data = [title, price, today]\n",
        "\n",
        "with open('KindlePrice.csv', 'w', newline='', encoding='UTF8') as f:\n",
        "    writer = csv.writer(f)\n",
        "    writer.writerow(header)\n",
        "    writer.writerow(data)"
      ]
    },
    {
      "cell_type": "code",
      "execution_count": 11,
      "id": "d07eeb86",
      "metadata": {
        "colab": {
          "base_uri": "https://localhost:8080/"
        },
        "id": "d07eeb86",
        "outputId": "29e39965-9290-48be-90d8-0accaa409a8c"
      },
      "outputs": [
        {
          "output_type": "stream",
          "name": "stdout",
          "text": [
            "                                               Title  Price        Date\n",
            "0  Becoming a Data Head: How to Think, Speak, and...   25.0  2024-03-08\n"
          ]
        }
      ],
      "source": [
        "import pandas as pd\n",
        "\n",
        "df = pd.read_csv(r'/content/KindlePrice.csv')\n",
        "print(df)"
      ]
    },
    {
      "cell_type": "code",
      "execution_count": 13,
      "id": "6b05c1eb",
      "metadata": {
        "id": "6b05c1eb"
      },
      "outputs": [],
      "source": [
        "#Now we are appending data to the csv\n",
        "with open('KindlePrice.csv', 'a+', newline='', encoding='UTF8') as f:\n",
        "    writer = csv.writer(f)\n",
        "    writer.writerow(data)"
      ]
    },
    {
      "cell_type": "code",
      "execution_count": 14,
      "id": "8e95b9e0",
      "metadata": {
        "id": "8e95b9e0"
      },
      "outputs": [],
      "source": [
        "#Combine all of the above code into one function\n",
        "\n",
        "def check_price():\n",
        "    URL = 'https://www.amazon.com/Becoming-Data-Head-Understand-Statistics-ebook/dp/B092TSVZJ8/ref=tmm_kin_swatch_0?_encoding=UTF8&qid=&sr='\n",
        "\n",
        "    headers = {\"User-Agent\": \"Mozilla/5.0 (Windows NT 10.0; Win64; x64) AppleWebKit/537.36 (KHTML, like Gecko) Chrome/122.0.0.0 Safari/537.36\", \"Accept-Encoding\":\"gzip, deflate\", \"Accept\":\"text/html,application/xhtml+xml,application/xml;q=0.9,*/*;q=0.8\", \"DNT\":\"1\",\"Connection\":\"close\", \"Upgrade-Insecure-Requests\":\"1\"}\n",
        "\n",
        "    page = requests.get(URL, headers=headers)\n",
        "\n",
        "    soup1 = BeautifulSoup(page.content, \"html.parser\")\n",
        "\n",
        "    soup2 = BeautifulSoup(soup1.prettify(), \"html.parser\")\n",
        "\n",
        "    title = soup2.find(id='productTitle').get_text()\n",
        "\n",
        "    price = soup2.find(id='kindle-price').get_text()\n",
        "\n",
        "    price = price.strip()[1:]\n",
        "    title = title.strip()\n",
        "\n",
        "    import datetime\n",
        "\n",
        "    today = datetime.date.today()\n",
        "\n",
        "    import csv\n",
        "\n",
        "    header = ['Title', 'Price', 'Date']\n",
        "    data = [title, price, today]\n",
        "\n",
        "    with open('KindlePrice.csv', 'a+', newline='', encoding='UTF8') as f:\n",
        "        writer = csv.writer(f)\n",
        "        writer.writerow(data)\n",
        "\n",
        "    if(price < 20):\n",
        "      send_mail()"
      ]
    },
    {
      "cell_type": "code",
      "execution_count": null,
      "id": "c72f2c4e",
      "metadata": {
        "id": "c72f2c4e"
      },
      "outputs": [],
      "source": [
        "# Runs check_price after a set time and inputs data into your CSV\n",
        "while(True):\n",
        "    check_price()\n",
        "    time.sleep(86400)"
      ]
    },
    {
      "cell_type": "code",
      "execution_count": 16,
      "id": "00af7126",
      "metadata": {
        "colab": {
          "base_uri": "https://localhost:8080/"
        },
        "id": "00af7126",
        "outputId": "b83aa5ec-f72a-45f9-b053-4a84e3b43e9d"
      },
      "outputs": [
        {
          "output_type": "stream",
          "name": "stdout",
          "text": [
            "                                               Title  Price        Date\n",
            "0  Becoming a Data Head: How to Think, Speak, and...   25.0  2024-03-08\n",
            "1  Becoming a Data Head: How to Think, Speak, and...   25.0  2024-03-08\n",
            "2  Becoming a Data Head: How to Think, Speak, and...   25.0  2024-03-08\n",
            "3  Becoming a Data Head: How to Think, Speak, and...   25.0  2024-03-08\n"
          ]
        }
      ],
      "source": [
        "import pandas as pd\n",
        "\n",
        "df = pd.read_csv(r'/content/KindlePrice.csv')\n",
        "print(df)"
      ]
    },
    {
      "cell_type": "code",
      "execution_count": 17,
      "id": "d14fce5f",
      "metadata": {
        "id": "d14fce5f"
      },
      "outputs": [],
      "source": [
        "# If uou want to try sending yourself an email (just for fun) when a price hits below a certain level you can try it\n",
        "# out with this script\n",
        "\n",
        "def send_mail():\n",
        "    server = smtplib.SMTP_SSL('smtp.gmail.com',465)\n",
        "    server.ehlo()\n",
        "    #server.starttls()\n",
        "    server.ehlo()\n",
        "    server.login('XXXXX@gmail.com','xxxxxxxxxxxxxx')\n",
        "\n",
        "    subject = \"The Book you want is below $20! Now is your chance to buy!\"\n",
        "    body = \"Larry, This is the moment we have been waiting for. Now is your chance to pick up the book Becoming a Data Head. Don't mess it up! Link here: https://www.amazon.com/Becoming-Data-Head-Understand-Statistics-ebook/dp/B092TSVZJ8/ref=tmm_kin_swatch_0?_encoding=UTF8&qid=&sr=\"\n",
        "\n",
        "    msg = f\"Subject: {subject}\\n\\n{body}\"\n",
        "\n",
        "    server.sendmail(\n",
        "        'XXXXX@gmail.com',\n",
        "        msg\n",
        "    )"
      ]
    }
  ],
  "metadata": {
    "kernelspec": {
      "display_name": "Python 3",
      "language": "python",
      "name": "python3"
    },
    "language_info": {
      "codemirror_mode": {
        "name": "ipython",
        "version": 3
      },
      "file_extension": ".py",
      "mimetype": "text/x-python",
      "name": "python",
      "nbconvert_exporter": "python",
      "pygments_lexer": "ipython3",
      "version": "3.8.8"
    },
    "colab": {
      "provenance": []
    }
  },
  "nbformat": 4,
  "nbformat_minor": 5
}